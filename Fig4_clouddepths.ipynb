{
 "cells": [
  {
   "cell_type": "code",
   "execution_count": 1,
   "metadata": {},
   "outputs": [],
   "source": [
    "import iris, windspharm\n",
    "import warnings\n",
    "import numpy as np\n",
    "import iris.plot as iplt\n",
    "\n",
    "import iris.quickplot as qplt\n",
    "\n",
    "import matplotlib.pyplot as plt\n",
    "import cartopy.crs as ccrs  \n",
    "import mo_pack\n",
    "from matplotlib import ticker, cm\n",
    "import iris.analysis.cartography\n",
    "import aeolus\n",
    "from aeolus.coord import volume_weights_cube, area_weights_cube, coord_delta_to_cube"
   ]
  },
  {
   "cell_type": "code",
   "execution_count": 2,
   "metadata": {},
   "outputs": [],
   "source": [
    "warnings.filterwarnings(\"ignore\")\n"
   ]
  },
  {
   "cell_type": "markdown",
   "metadata": {},
   "source": [
    "# Import the high temporal resolution cloud data"
   ]
  },
  {
   "cell_type": "code",
   "execution_count": 9,
   "metadata": {},
   "outputs": [],
   "source": [
    "pcb_b = iris.load('../data_b/pcb_bnox_musc_7440_120_2.nc')\n",
    "pcb_ccz = iris.load('../data_b/pcb_bnox_ccz_highres.nc')"
   ]
  },
  {
   "cell_type": "code",
   "execution_count": 10,
   "metadata": {},
   "outputs": [],
   "source": [
    "cc_base= pcb_ccz.extract_cube('LOWEST CONV CLOUD BASE LEVEL NO.')\n",
    "cc_top= pcb_ccz.extract_cube('LOWEST CONV CLOUD TOP LEVEL NO.')\n",
    "\n",
    "#Import altitude layers from other cube\n",
    "rf50001 = pcb_b.extract_cube('Stash code = 50001')\n",
    "avtrf50001 = rf50001.collapsed('t', iris.analysis.MEAN)\n",
    "z_arr=avtrf50001.coord('Hybrid height')"
   ]
  },
  {
   "cell_type": "code",
   "execution_count": 15,
   "metadata": {},
   "outputs": [
    {
     "data": {
      "text/html": [
       "\n",
       "<style>\n",
       "  a.iris {\n",
       "      text-decoration: none !important;\n",
       "  }\n",
       "  table.iris {\n",
       "      white-space: pre;\n",
       "      border: 1px solid;\n",
       "      border-color: #9c9c9c;\n",
       "      font-family: monaco, monospace;\n",
       "  }\n",
       "  th.iris {\n",
       "      background: #303f3f;\n",
       "      color: #e0e0e0;\n",
       "      border-left: 1px solid;\n",
       "      border-color: #9c9c9c;\n",
       "      font-size: 1.05em;\n",
       "      min-width: 50px;\n",
       "      max-width: 125px;\n",
       "  }\n",
       "  tr.iris :first-child {\n",
       "      border-right: 1px solid #9c9c9c !important;\n",
       "  }\n",
       "  td.iris-title {\n",
       "      background: #d5dcdf;\n",
       "      border-top: 1px solid #9c9c9c;\n",
       "      font-weight: bold;\n",
       "  }\n",
       "  .iris-word-cell {\n",
       "      text-align: left !important;\n",
       "      white-space: pre;\n",
       "  }\n",
       "  .iris-subheading-cell {\n",
       "      padding-left: 2em !important;\n",
       "  }\n",
       "  .iris-inclusion-cell {\n",
       "      padding-right: 1em !important;\n",
       "  }\n",
       "  .iris-panel-body {\n",
       "      padding-top: 0px;\n",
       "  }\n",
       "  .iris-panel-title {\n",
       "      padding-left: 3em;\n",
       "  }\n",
       "  .iris-panel-title {\n",
       "      margin-top: 7px;\n",
       "  }\n",
       "</style>\n",
       "<table class=\"iris\" id=\"140412628751312\">\n",
       "    <tr class=\"iris\">\n",
       "<th class=\"iris iris-word-cell\">Lowest Conv Cloud Base Level No. (unknown)</th>\n",
       "<th class=\"iris iris-word-cell\">longitude</th>\n",
       "</tr>\n",
       "    <tr class=\"iris\">\n",
       "<td class=\"iris-word-cell iris-subheading-cell\">Shape</td>\n",
       "<td class=\"iris iris-inclusion-cell\">144</td>\n",
       "</tr>\n",
       "    <tr class=\"iris\">\n",
       "    <td class=\"iris-title iris-word-cell\">Dimension coordinates</td>\n",
       "    <td class=\"iris-title\"></td>\n",
       "</tr>\n",
       "<tr class=\"iris\">\n",
       "    <td class=\"iris-word-cell iris-subheading-cell\">\tlongitude</td>\n",
       "    <td class=\"iris-inclusion-cell\">x</td>\n",
       "</tr>\n",
       "<tr class=\"iris\">\n",
       "    <td class=\"iris-title iris-word-cell\">Scalar coordinates</td>\n",
       "    <td class=\"iris-title\"></td>\n",
       "</tr>\n",
       "<tr class=\"iris\">\n",
       "    <td class=\"iris-word-cell iris-subheading-cell\">\tLower level (hybrid)</td>\n",
       "    <td class=\"iris-word-cell\" colspan=\"1\">-1.0</td>\n",
       "</tr>\n",
       "<tr class=\"iris\">\n",
       "    <td class=\"iris-word-cell iris-subheading-cell\">\tlatitude</td>\n",
       "    <td class=\"iris-word-cell\" colspan=\"1\">41.0 degrees</td>\n",
       "</tr>\n",
       "<tr class=\"iris\">\n",
       "    <td class=\"iris-word-cell iris-subheading-cell\">\tt</td>\n",
       "    <td class=\"iris-word-cell\" colspan=\"1\">2024-09-25 11:00:00</td>\n",
       "</tr>\n",
       "<tr class=\"iris\">\n",
       "    <td class=\"iris-title iris-word-cell\">Attributes</td>\n",
       "    <td class=\"iris-title\"></td>\n",
       "</tr>\n",
       "<tr class=\"iris\">\n",
       "    <td class=\"iris-word-cell iris-subheading-cell\">\tdate</td>\n",
       "    <td class=\"iris-word-cell\" colspan=\"1\">25/09/24</td>\n",
       "</tr>\n",
       "<tr class=\"iris\">\n",
       "    <td class=\"iris-word-cell iris-subheading-cell\">\thistory</td>\n",
       "    <td class=\"iris-word-cell\" colspan=\"1\">Wed Aug 17 13:43:06 UTC 2022 - XCONV V1.92 16-February-2006</td>\n",
       "</tr>\n",
       "<tr class=\"iris\">\n",
       "    <td class=\"iris-word-cell iris-subheading-cell\">\tname</td>\n",
       "    <td class=\"iris-word-cell\" colspan=\"1\">convcldbase</td>\n",
       "</tr>\n",
       "<tr class=\"iris\">\n",
       "    <td class=\"iris-word-cell iris-subheading-cell\">\tsource</td>\n",
       "    <td class=\"iris-word-cell\" colspan=\"1\">Unified Model Output (Vn12.0):</td>\n",
       "</tr>\n",
       "<tr class=\"iris\">\n",
       "    <td class=\"iris-word-cell iris-subheading-cell\">\ttime</td>\n",
       "    <td class=\"iris-word-cell\" colspan=\"1\">09:00</td>\n",
       "</tr>\n",
       "<tr class=\"iris\">\n",
       "    <td class=\"iris-word-cell iris-subheading-cell\">\ttitle</td>\n",
       "    <td class=\"iris-word-cell\" colspan=\"1\">LOWEST CONV CLOUD BASE LEVEL NO.</td>\n",
       "</tr>\n",
       "<tr class=\"iris\">\n",
       "    <td class=\"iris-word-cell iris-subheading-cell\">\tvalid_max</td>\n",
       "    <td class=\"iris-word-cell\" colspan=\"1\">23.0</td>\n",
       "</tr>\n",
       "<tr class=\"iris\">\n",
       "    <td class=\"iris-word-cell iris-subheading-cell\">\tvalid_min</td>\n",
       "    <td class=\"iris-word-cell\" colspan=\"1\">0.0</td>\n",
       "</tr>\n",
       "</table>\n",
       "        "
      ],
      "text/plain": [
       "<iris 'Cube' of LOWEST CONV CLOUD BASE LEVEL NO. / (unknown) (longitude: 144)>"
      ]
     },
     "execution_count": 15,
     "metadata": {},
     "output_type": "execute_result"
    }
   ],
   "source": [
    "cc_base[0,0,65,:]"
   ]
  },
  {
   "cell_type": "markdown",
   "metadata": {},
   "source": [
    "# Some standard cube operations"
   ]
  },
  {
   "cell_type": "code",
   "execution_count": 5,
   "metadata": {},
   "outputs": [],
   "source": [
    "from iris.util import broadcast_to_shape, guess_coord_axis, is_regular\n",
    "from iris.analysis.cartography import wrap_lons\n",
    "\n",
    "def zonal_mean(cube, lon_name=\"longitude\"):\n",
    "    \"\"\"\n",
    "    Calculate cube's zonal average.\n",
    "    Parameters\n",
    "    ----------\n",
    "    cube: iris.cube.Cube\n",
    "        Cube with a latitude coordinate.\n",
    "    lon_name: str, optional\n",
    "        Name of the longitude coordinate.\n",
    "    Returns\n",
    "    -------\n",
    "    iris.cube.Cube\n",
    "        Collapsed cube.\n",
    "    \"\"\"\n",
    "    cube_mean = cube.collapsed(lon_name, iris.analysis.MEAN)\n",
    "    return cube_mean\n",
    "\n",
    "\n",
    "def meridional_mean(cube, lat_name=\"latitude\"):\n",
    "    \"\"\"\n",
    "    Calculate cube's meridional average.\n",
    "    Parameters\n",
    "    ----------\n",
    "    cube: iris.cube.Cube\n",
    "        Cube with a latitude coordinate.\n",
    "    lat_name: str, optional\n",
    "        Name of the latitude coordinate.\n",
    "    Returns\n",
    "    -------\n",
    "    iris.cube.Cube\n",
    "        Collapsed cube.\n",
    "    \"\"\"\n",
    "    coslat = np.cos(np.deg2rad(cube.coord(lat_name).points))\n",
    "    coslat2d = iris.util.broadcast_to_shape(\n",
    "        coslat, cube.shape, cube.coord_dims(lat_name)\n",
    "    )\n",
    "    cube_mean = (cube * coslat2d).collapsed(lat_name, iris.analysis.SUM) / np.sum(\n",
    "        coslat\n",
    "    )\n",
    "    return cube_mean\n",
    "\n",
    "def cube_min(cube):\n",
    "    a=cube.collapsed('latitude', iris.analysis.MIN)\n",
    "    b=a.collapsed('longitude', iris.analysis.MIN)\n",
    "    return b.data\n",
    "\n",
    "def cube_max(cube):\n",
    "    a=cube.collapsed('latitude', iris.analysis.MAX)\n",
    "    b=a.collapsed('longitude', iris.analysis.MAX)\n",
    "    return b.data\n",
    "\n",
    "def deltacube(cube1,cube2):\n",
    "    cube3 = (cube1-cube2)\n",
    "    return cube3\n",
    "\n",
    "\n",
    " \n",
    "def volume_weights_cube2(cube, r_planet=None, normalize=False, model=aeolus.model.um):\n",
    "    \"\"\"\n",
    "    Create a cube of volume weights from a grid of a given cube.\n",
    "\n",
    "    Parameters\n",
    "    ----------\n",
    "    cube: iris.cube.Cube\n",
    "        Cube with longitude, latitude and height coordinates\n",
    "    r_planet: float, optional\n",
    "        Radius of the planet (m). If not given, an attempt is made\n",
    "        to get it from the cube metadata.\n",
    "    normalize: bool, optional\n",
    "        Normalize the data.\n",
    "    model: aeolus.model.Model, optional\n",
    "        Model class with relevant coordinate names.\n",
    "\n",
    "    Returns\n",
    "    -------\n",
    "    iris.cube.Cube\n",
    "        Cube of area weights with the same metadata as the input cube\n",
    "    \"\"\"\n",
    "    area_cube = area_weights_cube(cube, r_planet=r_planet, normalize=normalize, model=model)\n",
    "    height_deltas = coord_delta_to_cube(cube, model.z, normalize=normalize)\n",
    "    volume = area_cube * height_deltas\n",
    "    if normalize:\n",
    "        volume.rename(\"normalized_volume_weights\")\n",
    "        volume.convert_units(\"1\")\n",
    "    else:\n",
    "        volume.rename(\"volume_weights\")\n",
    "        volume.units == \"m**3\"\n",
    "    return volume\n",
    "\n",
    "def _is_longitude_global(lon_points):\n",
    "    \"\"\"Return True if array of longitudes covers the whole sphere.\"\"\"\n",
    "    dx = np.diff(lon_points)[0]  # assume regular grid\n",
    "    case_0_360 = ((lon_points[0] - dx) <= 0) and ((lon_points[-1] + dx) >= 360)\n",
    "    case_pm180 = ((lon_points[0] - dx) <= -180) and ((lon_points[-1] + dx) >= 180)\n",
    "    return case_0_360 or case_pm180\n",
    "\n",
    "def roll_cube_pm180(cube_in):\n",
    "    \"\"\"\n",
    "    Take a cube spanning 0...360 degrees in longitude and roll it to -180...180 degrees.\n",
    "\n",
    "    Works with global model output, and in some cases for regional.\n",
    "\n",
    "    Parameters\n",
    "    ----------\n",
    "    cube: iris.cube.Cube\n",
    "        Cube with longitude and latitude coordinates.\n",
    "    model: aeolus.model.Model, optional\n",
    "        Model class with a relevant longitude coordinate name.\n",
    "\n",
    "    Returns\n",
    "    -------\n",
    "    iris.cube.Cube\n",
    "\n",
    "    See also\n",
    "    --------\n",
    "    aeolus.coord.roll_cube_0_360\n",
    "    \"\"\"\n",
    "    cube = cube_in.copy()\n",
    "    #coord_name = model.x  # get the name of the longitude coordinate\n",
    "    xcoord = cube.coord('longitude')\n",
    "    if (xcoord.points >= 0.0).all():\n",
    "        assert is_regular(xcoord), \"Operation is only valid for a regularly spaced coordinate.\"\n",
    "        if _is_longitude_global(xcoord.points):\n",
    "            # Shift data symmetrically only when dealing with global cubes\n",
    "            cube.data = np.roll(cube.data, len(xcoord.points) // 2, axis=-1)\n",
    "\n",
    "        if xcoord.has_bounds():\n",
    "            bounds = wrap_lons(xcoord.bounds, -180, 360)  # + subtract\n",
    "            bounds = bounds[bounds[:, 0].argsort(axis=0)]\n",
    "        else:\n",
    "            bounds = None\n",
    "        cube.replace_coord(\n",
    "            xcoord.copy(points=np.sort(wrap_lons(xcoord.points, -180, 360)), bounds=bounds)\n",
    "        )\n",
    "    else:\n",
    "        # Nothing to do, the cube is already centered on 0 longitude\n",
    "        # unless there is something wrong with longitude\n",
    "        msg = f\"Incorrect {coord_name} values: from {xcoord.points.min()} to {xcoord.points.max()}\"\n",
    "        assert ((xcoord.points >= -180.0) & (xcoord.points <= 180.0)).all(), msg\n",
    "    return cube\n",
    "\n",
    "def cuberoll_merid(cube_in):\n",
    "    roll = roll_cube_pm180(cube_in)\n",
    "    #roll_merid=meridional_mean(roll)\n",
    "    return roll"
   ]
  },
  {
   "cell_type": "markdown",
   "metadata": {},
   "source": [
    "# Calculate cloud depths at every coordinate between 40 N/S and at all longitudes"
   ]
  },
  {
   "cell_type": "code",
   "execution_count": 17,
   "metadata": {},
   "outputs": [
    {
     "data": {
      "text/plain": [
       "20482560"
      ]
     },
     "execution_count": 17,
     "metadata": {},
     "output_type": "execute_result"
    }
   ],
   "source": [
    "z_arr=avtrf50001.coord('Hybrid height')\n",
    "z_arr[11]\n",
    "ccz=[]\n",
    "for t in range(3556):\n",
    "    for i in range(25,65):\n",
    "        for j in range(144):\n",
    "            czvalues=float(z_arr[int(cc_top.data[t,0,i,j])].points-z_arr[int(cc_base.data[t,0,i,j])].points)\n",
    "       #print(czvalues[:20])\n",
    "            ccz.append(czvalues/1000)\n",
    "        #print(z_arr[int(cc_base.data[0,0,i,1])])\n",
    "\n",
    "        #max_ccz.append(cc_top.data[0,0,i,j])\n",
    "        #max_ccz.append(avtrf50001.coord('Hybrid height')[int(cc_top.data[0,0,i,j])])\n",
    "len(ccz) \n"
   ]
  },
  {
   "cell_type": "markdown",
   "metadata": {},
   "source": [
    "# Filter positive cloud depths"
   ]
  },
  {
   "cell_type": "code",
   "execution_count": 18,
   "metadata": {},
   "outputs": [
    {
     "data": {
      "text/plain": [
       "4257937"
      ]
     },
     "execution_count": 18,
     "metadata": {},
     "output_type": "execute_result"
    }
   ],
   "source": [
    "ccz_nz=[]\n",
    "for i in range(len(ccz)): \n",
    "    if ccz[i]>0:\n",
    "        ccz_nz.append(ccz[i])\n",
    "len(ccz_nz)\n",
    "#max(ccz_nz)"
   ]
  },
  {
   "cell_type": "markdown",
   "metadata": {},
   "source": [
    "# Plot histogram of cloud depths at high temporal resolution (Figure 4 in Braam et al. 2022)"
   ]
  },
  {
   "cell_type": "code",
   "execution_count": 19,
   "metadata": {},
   "outputs": [
    {
     "data": {
      "image/png": "[encoded data removed]",
      "text/plain": [
       "<Figure size 576x576 with 1 Axes>"
      ]
     },
     "metadata": {
      "needs_background": "light"
     },
     "output_type": "display_data"
    }
   ],
   "source": [
    "fig=plt.figure(figsize=(8,8))\n",
    "plt.hist(ccz_nz, bins=40, orientation='horizontal')\n",
    "plt.ylim(0,18)\n",
    "plt.xscale('log')\n",
    "plt.ylabel('Cloud depth (km)', fontsize=22)\n",
    "plt.xlabel('Frequency', fontsize=22)\n",
    "plt.xticks(fontsize=20)\n",
    "plt.yticks(fontsize=20)\n",
    "plt.axhline(5, label='Minimum depth\\nfor thundercloud', lw=2, ls='--', color='black')\n",
    "plt.legend(fontsize=20, loc='upper right')\n",
    "plt.show()"
   ]
  },
  {
   "cell_type": "code",
   "execution_count": null,
   "metadata": {},
   "outputs": [],
   "source": []
  }
 ],
 "metadata": {
  "kernelspec": {
   "display_name": "iris-env",
   "language": "python",
   "name": "iris-env"
  },
  "language_info": {
   "codemirror_mode": {
    "name": "ipython",
    "version": 3
   },
   "file_extension": ".py",
   "mimetype": "text/x-python",
   "name": "python",
   "nbconvert_exporter": "python",
   "pygments_lexer": "ipython3",
   "version": "3.8.6"
  }
 },
 "nbformat": 4,
 "nbformat_minor": 4
}
